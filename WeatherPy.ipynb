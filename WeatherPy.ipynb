{
 "cells": [
  {
   "cell_type": "markdown",
   "metadata": {},
   "source": [
    "# WeatherPy\n",
    "----\n",
    "\n",
    "#### Note\n",
    "* Instructions have been included for each segment. You do not have to follow them exactly, but they are included to help you think through the steps."
   ]
  },
  {
   "cell_type": "code",
   "execution_count": 1,
   "metadata": {
    "scrolled": true
   },
   "outputs": [],
   "source": [
    "# Dependencies and Setup\n",
    "import matplotlib.pyplot as plt\n",
    "import pandas as pd\n",
    "import numpy as np\n",
    "import requests\n",
    "import time\n",
    "import json\n",
    "\n",
    "# Import API key\n",
    "from api_keys import api_key\n",
    "\n",
    "# Incorporated citipy to determine city based on latitude and longitude\n",
    "from citipy import citipy\n",
    "\n",
    "# Output File (CSV)\n",
    "output_data_file = \"output_data/cities.csv\"\n",
    "\n",
    "# Range of latitudes and longitudes\n",
    "lat_range = (-90, 90)\n",
    "lng_range = (-180, 180)"
   ]
  },
  {
   "cell_type": "markdown",
   "metadata": {},
   "source": [
    "## Generate Cities List"
   ]
  },
  {
   "cell_type": "code",
   "execution_count": 2,
   "metadata": {},
   "outputs": [
    {
     "data": {
      "text/plain": [
       "605"
      ]
     },
     "execution_count": 2,
     "metadata": {},
     "output_type": "execute_result"
    }
   ],
   "source": [
    "# List for holding lat_lngs and cities\n",
    "lat_lngs = []\n",
    "cities = []\n",
    "\n",
    "# Create a set of random lat and lng combinations\n",
    "lats = np.random.uniform(low=-90.000, high=90.000, size=1500)\n",
    "lngs = np.random.uniform(low=-180.000, high=180.000, size=1500)\n",
    "lat_lngs = zip(lats, lngs)\n",
    "\n",
    "# Identify nearest city for each lat, lng combination\n",
    "for lat_lng in lat_lngs:\n",
    "    city = citipy.nearest_city(lat_lng[0], lat_lng[1]).city_name\n",
    "    \n",
    "    # If the city is unique, then add it to a our cities list\n",
    "    if city not in cities:\n",
    "        cities.append(city)\n",
    "\n",
    "# Print the city count to confirm sufficient count\n",
    "len(cities)"
   ]
  },
  {
   "cell_type": "markdown",
   "metadata": {},
   "source": [
    "### Perform API Calls\n",
    "* Perform a weather check on each city using a series of successive API calls.\n",
    "* Include a print log of each city as it'sbeing processed (with the city number and city name).\n"
   ]
  },
  {
   "cell_type": "code",
   "execution_count": 3,
   "metadata": {},
   "outputs": [
    {
     "name": "stdout",
     "output_type": "stream",
     "text": [
      "{'coord': {'lon': 81.82, 'lat': 7.42}, 'weather': [{'id': 500, 'main': 'Rain', 'description': 'light rain', 'icon': '10n'}], 'base': 'model', 'main': {'temp': 300.44, 'feels_like': 301.52, 'temp_min': 300.44, 'temp_max': 300.44, 'pressure': 1010, 'humidity': 77, 'sea_level': 1010, 'grnd_level': 1010}, 'wind': {'speed': 5.87, 'deg': 41}, 'rain': {'3h': 0.13}, 'clouds': {'all': 12}, 'dt': 1578254961, 'sys': {'country': 'LK', 'sunrise': 1578271606, 'sunset': 1578313752}, 'timezone': 19800, 'id': 1242110, 'name': 'Kalmunai', 'cod': 200}\n"
     ]
    }
   ],
   "source": [
    "for city_name in cities[:70]:\n",
    "    url = \"https://api.openweathermap.org/data/2.5/weather?q=\" + city_name + \"&APPID=\" + api_key\n",
    "    content = requests.get(url).json()\n",
    "    print(content)\n",
    "    break"
   ]
  },
  {
   "cell_type": "markdown",
   "metadata": {},
   "source": [
    "### Convert Raw Data to DataFrame\n",
    "* Export the city data into a .csv.\n",
    "* Display the DataFrame"
   ]
  },
  {
   "cell_type": "code",
   "execution_count": 9,
   "metadata": {},
   "outputs": [
    {
     "name": "stdout",
     "output_type": "stream",
     "text": [
      "Processing city number 1: name kalmunai\n",
      "Processing city number 2: name ushuaia\n",
      "Processing city number 3: name barrow\n",
      "Processing city number 4: name rawson\n",
      "Processing city number 5: name aklavik\n",
      "Processing city number 6: name yarmouth\n",
      "Processing city number 7: name vaini\n",
      "Processing city number 8: name bako\n",
      "Processing city number 9: name odienne\n",
      "Processing city number 10: name hambantota\n",
      "Processing city number 11: name port elizabeth\n",
      "Processing city number 12: name severo-kurilsk\n",
      "Processing city number 13: name teguise\n",
      "Processing city number 14: name kudahuvadhoo\n",
      "Processing city number 15: name bluff\n",
      "Processing city number 16: name busselton\n",
      "Processing city number 17: name channel-port aux basques\n",
      "Processing city number 18: name buala\n",
      "Processing city number 19: name punta arenas\n",
      "Processing city number 20: name masterton\n",
      "Processing city number 21: name hamilton\n",
      "Processing city number 22: name takoradi\n",
      "Processing city number 23: name fortuna\n",
      "Processing city number 24: name chabahar\n",
      "Processing city number 25: name cape town\n",
      "Processing city number 26: name beyneu\n",
      "Processing city number 27: name soyo\n",
      "City not found\n",
      "Processing city number 29: name mar del plata\n",
      "Processing city number 30: name ancud\n",
      "Processing city number 31: name jamestown\n",
      "Processing city number 32: name thessalon\n",
      "Processing city number 33: name teya\n",
      "Processing city number 34: name auki\n",
      "Processing city number 35: name saskylakh\n",
      "City not found\n",
      "Processing city number 37: name tisul\n",
      "Processing city number 38: name kaitangata\n",
      "Processing city number 39: name the valley\n",
      "City not found\n",
      "Processing city number 41: name dhidhdhoo\n",
      "Processing city number 42: name torbay\n",
      "Processing city number 43: name itarema\n",
      "City not found\n",
      "Processing city number 45: name krasnyy chikoy\n",
      "Processing city number 46: name castro\n",
      "Processing city number 47: name hermanus\n",
      "Processing city number 48: name novoseleznevo\n",
      "Processing city number 49: name port alfred\n",
      "Processing city number 50: name ribeira grande\n",
      "Processing city number 51: name mataura\n",
      "Processing city number 52: name northport\n",
      "Processing city number 53: name iralaya\n",
      "Processing city number 54: name cherskiy\n",
      "Processing city number 55: name meiganga\n",
      "Processing city number 56: name tasiilaq\n",
      "Processing city number 57: name clyde river\n",
      "City not found\n",
      "Processing city number 59: name beruwala\n",
      "Processing city number 60: name cuiluan\n",
      "Processing city number 61: name leningradskiy\n",
      "Processing city number 62: name rincon\n",
      "Processing city number 63: name rikitea\n",
      "Processing city number 64: name dikson\n",
      "Processing city number 65: name atambua\n",
      "Processing city number 66: name katobu\n",
      "Processing city number 67: name westport\n",
      "Processing city number 68: name bereda\n",
      "Processing city number 69: name saiha\n",
      "Processing city number 70: name mahebourg\n",
      "         City  Cloudiness Country        Date  Humidity    Lat     Lon  \\\n",
      "0    Kalmunai          12      LK  1578256850        77   7.42   81.82   \n",
      "1     Ushuaia          75      AR  1578256850        76 -54.81  -68.31   \n",
      "2      Barrow         100      AR  1578256850        76 -38.31  -60.23   \n",
      "3      Rawson          42      AR  1578256851        60 -43.30  -65.11   \n",
      "4     Aklavik          75      CA  1578256851        62  68.22 -135.01   \n",
      "..        ...         ...     ...         ...       ...    ...     ...   \n",
      "60     Katobu         100      ID  1578256873        92  -4.94  122.53   \n",
      "61   Westport          40      US  1578256623        38  41.14  -73.36   \n",
      "62     Bereda           1      ES  1578256874       100  43.27   -7.54   \n",
      "63      Saiha           9      IN  1578256874        99  22.49   92.98   \n",
      "64  Mahebourg          75      MU  1578256875       100 -20.41   57.70   \n",
      "\n",
      "    Max Temp  Wind Speed  \n",
      "0     300.44        5.87  \n",
      "1     283.15       12.30  \n",
      "2     296.22        1.67  \n",
      "3     291.35        9.90  \n",
      "4     246.15        4.60  \n",
      "..       ...         ...  \n",
      "60    297.57        1.52  \n",
      "61    279.26       10.30  \n",
      "62    279.26        2.60  \n",
      "63    283.87        1.00  \n",
      "64    296.15        4.10  \n",
      "\n",
      "[65 rows x 9 columns]\n"
     ]
    }
   ],
   "source": [
    "weather_data = []\n",
    "for i,city_name in enumerate(cities[:70], start =1):\n",
    "    url = \"https://api.openweathermap.org/data/2.5/weather?q=\" + city_name + \"&APPID=\" + api_key\n",
    "    content = requests.get(url).json()\n",
    "    if int(content['cod']) ==404:\n",
    "        print('City not found')\n",
    "        continue\n",
    "    print('Processing city number {}: name {}'.format(i, city_name))\n",
    "    weather_data.append([content['name'], content['clouds']['all'], content['sys']['country'], content['dt'],\n",
    "                         content['main']['humidity'], content['coord']['lat'], content['coord']['lon'],\n",
    "                         content['main']['temp_max'], content['wind']['speed']])\n",
    "df = pd.DataFrame(weather_data, columns = ['City', 'Cloudiness', 'Country', 'Date', 'Humidity', 'Lat', 'Lon', 'Max Temp', 'Wind Speed'])\n",
    "import_csv = df.to_csv(r\"C:\\Users\\rando04\\Desktop\\my_dir\\python-api-challenge\\Weather_data.csv\")\n",
    "print(df)"
   ]
  },
  {
   "cell_type": "markdown",
   "metadata": {},
   "source": [
    "### Plotting the Data\n",
    "* Use proper labeling of the plots using plot titles (including date of analysis) and axes labels.\n",
    "* Save the plotted figures as .pngs."
   ]
  },
  {
   "cell_type": "markdown",
   "metadata": {},
   "source": [
    "#### Latitude vs. Temperature Plot"
   ]
  },
  {
   "cell_type": "code",
   "execution_count": 11,
   "metadata": {},
   "outputs": [
    {
     "data": {
      "text/plain": [
       "Text(0, 0.5, 'Max Temperature')"
      ]
     },
     "execution_count": 11,
     "metadata": {},
     "output_type": "execute_result"
    },
    {
     "data": {
      "image/png": "[encoded data removed]",
      "text/plain": [
       "<Figure size 432x288 with 1 Axes>"
      ]
     },
     "metadata": {
      "needs_background": "light"
     },
     "output_type": "display_data"
    }
   ],
   "source": [
    "x_city_latitude = df.loc[:,'Lat']\n",
    "y_max_temp = df.loc[:,'Max Temp']\n",
    "plt.scatter(x_city_latitude, y_max_temp,marker = \"o\", c = \"green\", edgecolors = \"black\", s = 40, alpha = 0.5)\n",
    "plt.title('City Latitude vs. Max Temperature (1/5/2020)')\n",
    "plt.xlabel('Latitude')\n",
    "plt.ylabel('Max Temperature')\n"
   ]
  },
  {
   "cell_type": "markdown",
   "metadata": {},
   "source": [
    "#### Latitude vs. Humidity Plot"
   ]
  },
  {
   "cell_type": "code",
   "execution_count": 13,
   "metadata": {},
   "outputs": [
    {
     "data": {
      "text/plain": [
       "Text(0, 0.5, 'Humidity (%)')"
      ]
     },
     "execution_count": 13,
     "metadata": {},
     "output_type": "execute_result"
    },
    {
     "data": {
      "image/png": "[encoded data removed]",
      "text/plain": [
       "<Figure size 432x288 with 1 Axes>"
      ]
     },
     "metadata": {
      "needs_background": "light"
     },
     "output_type": "display_data"
    }
   ],
   "source": [
    "x_city_latitude = df.loc[:,'Lat']\n",
    "y_humidity = df.loc[:,'Humidity']\n",
    "\n",
    "plt.scatter(x_city_latitude, y_humidity, marker = \"o\", c = \"green\", edgecolors = \"black\", s = 40, alpha = 0.5)\n",
    "\n",
    "plt.title('City Latitude vs. Humidity (1/5/2020)')\n",
    "plt.xlabel('Latitude')\n",
    "plt.ylabel('Humidity (%)')"
   ]
  },
  {
   "cell_type": "markdown",
   "metadata": {},
   "source": [
    "#### Latitude vs. Cloudiness Plot"
   ]
  },
  {
   "cell_type": "code",
   "execution_count": 16,
   "metadata": {},
   "outputs": [
    {
     "data": {
      "text/plain": [
       "Text(0, 0.5, 'Cloudiness (%)')"
      ]
     },
     "execution_count": 16,
     "metadata": {},
     "output_type": "execute_result"
    },
    {
     "data": {
      "image/png": "[encoded data removed]",
      "text/plain": [
       "<Figure size 432x288 with 1 Axes>"
      ]
     },
     "metadata": {
      "needs_background": "light"
     },
     "output_type": "display_data"
    }
   ],
   "source": [
    "x_city_latitude = df.loc[:,'Lat']\n",
    "y_cloud = df.loc[:,'Cloudiness']\n",
    "\n",
    "plt.scatter(x_city_latitude, y_cloud, marker = \"o\", c = \"blue\", edgecolors = \"black\", s = 40, alpha = 0.5)\n",
    "\n",
    "plt.title('City Latitude vs. Cloudiness (1/5/2020)')\n",
    "plt.xlabel('Latitude')\n",
    "plt.ylabel('Cloudiness (%)')"
   ]
  },
  {
   "cell_type": "markdown",
   "metadata": {},
   "source": [
    "#### Latitude vs. Wind Speed Plot"
   ]
  },
  {
   "cell_type": "code",
   "execution_count": 17,
   "metadata": {},
   "outputs": [
    {
     "data": {
      "text/plain": [
       "Text(0, 0.5, 'Wind Speed (mph)')"
      ]
     },
     "execution_count": 17,
     "metadata": {},
     "output_type": "execute_result"
    },
    {
     "data": {
      "image/png": "[encoded data removed]",
      "text/plain": [
       "<Figure size 432x288 with 1 Axes>"
      ]
     },
     "metadata": {
      "needs_background": "light"
     },
     "output_type": "display_data"
    }
   ],
   "source": [
    "x_city_latitude = df.loc[:,'Lat']\n",
    "y_wind = df.loc[:,'Wind Speed']\n",
    "\n",
    "plt.scatter(x_city_latitude, y_humidity, marker = \"o\", c = \"purple\", edgecolors = \"black\", s = 40, alpha = 0.5)\n",
    "\n",
    "plt.title('City Latitude vs. Wind Speed (1/5/2020)')\n",
    "plt.xlabel('Latitude')\n",
    "plt.ylabel('Wind Speed (mph)')"
   ]
  },
  {
   "cell_type": "code",
   "execution_count": null,
   "metadata": {},
   "outputs": [],
   "source": []
  }
 ],
 "metadata": {
  "anaconda-cloud": {},
  "kernel_info": {
   "name": "python3"
  },
  "kernelspec": {
   "display_name": "Python 3",
   "language": "python",
   "name": "python3"
  },
  "language_info": {
   "codemirror_mode": {
    "name": "ipython",
    "version": 3
   },
   "file_extension": ".py",
   "mimetype": "text/x-python",
   "name": "python",
   "nbconvert_exporter": "python",
   "pygments_lexer": "ipython3",
   "version": "3.7.6"
  },
  "nteract": {
   "version": "0.12.3"
  }
 },
 "nbformat": 4,
 "nbformat_minor": 4
}
